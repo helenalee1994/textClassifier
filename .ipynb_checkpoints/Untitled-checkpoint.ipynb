{
 "cells": [
  {
   "cell_type": "code",
   "execution_count": 6,
   "metadata": {},
   "outputs": [
    {
     "name": "stdout",
     "output_type": "stream",
     "text": [
      "('Current running on GPU number:', 1)\n",
      "tag of tensor board: snap_0311/attention\n",
      "Total 18234 unique tokens.\n",
      "('Shape of data tensor:', (55102, 15, 100))\n",
      "('Shape of label tensor:', (55102, 2))\n",
      "Number of positive and negative reviews in traing and validation set\n",
      "[32498.   562.]\n",
      "[10833.   188.]\n",
      "class weight is 57.8\n",
      "Total 400000 word vectors.\n",
      "=> loading checkpoint '../../dir_HugeFiles/snap_0311/attention/model_e006_v--0.370'\n",
      "train\n",
      ":::current prob threshold 0.800 \n",
      "   positive number: pred 1171, true 562\n",
      "   -f1 0.571, precision 0.423, recall 0.881\n",
      "val\n",
      ":::current prob threshold 0.800 \n",
      "   positive number: pred 395, true 188\n",
      "   -f1 0.370, precision 0.273, recall 0.574\n",
      "test\n",
      ":::current prob threshold 0.800 \n",
      "   positive number: pred 415, true 188\n",
      "   -f1 0.338, precision 0.246, recall 0.543\n"
     ]
    }
   ],
   "source": [
    "test = \"recipeClassifierHATT_v4.py\"\n",
    "test += \" --gpu=1 --snapshots='../../dir_HugeFiles/snap_0311/attention/'\" \n",
    "test += \" --test='../../dir_HugeFiles/snap_0311/attention/model_e006_v--0.370'\" \n",
    "test += \" --train='../../dir_HugeFiles/processed_data_0306/GI_full.pickle'\"\n",
    "%run $test"
   ]
  },
  {
   "cell_type": "code",
   "execution_count": null,
   "metadata": {},
   "outputs": [],
   "source": []
  }
 ],
 "metadata": {
  "kernelspec": {
   "display_name": "Python 2",
   "language": "python",
   "name": "python2"
  },
  "language_info": {
   "codemirror_mode": {
    "name": "ipython",
    "version": 2
   },
   "file_extension": ".py",
   "mimetype": "text/x-python",
   "name": "python",
   "nbconvert_exporter": "python",
   "pygments_lexer": "ipython2",
   "version": "2.7.15"
  }
 },
 "nbformat": 4,
 "nbformat_minor": 2
}
